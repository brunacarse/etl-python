{
  "nbformat": 4,
  "nbformat_minor": 0,
  "metadata": {
    "colab": {
      "provenance": [],
      "authorship_tag": "ABX9TyM18VUze74kwn+IkgWIfmD3",
      "include_colab_link": true
    },
    "kernelspec": {
      "name": "python3",
      "display_name": "Python 3"
    },
    "language_info": {
      "name": "python"
    }
  },
  "cells": [
    {
      "cell_type": "markdown",
      "metadata": {
        "id": "view-in-github",
        "colab_type": "text"
      },
      "source": [
        "<a href=\"https://colab.research.google.com/github/brunacarse/etl-python/blob/main/ETL_Python.ipynb\" target=\"_parent\"><img src=\"https://colab.research.google.com/assets/colab-badge.svg\" alt=\"Open In Colab\"/></a>"
      ]
    },
    {
      "cell_type": "markdown",
      "source": [
        "Análise do número de estudantes que realizaram o Exame Nacional do Ensino Médio por UF, através da base de dados do IBGE."
      ],
      "metadata": {
        "id": "uWkfr0U6U0Kp"
      }
    },
    {
      "cell_type": "code",
      "execution_count": 8,
      "metadata": {
        "colab": {
          "base_uri": "https://localhost:8080/"
        },
        "id": "p3ef2qWhUKBs",
        "outputId": "84af4da1-9408-4e6e-9cde-b3f8393f0598"
      },
      "outputs": [
        {
          "output_type": "stream",
          "name": "stdout",
          "text": [
            "{'CE', 'BA', 'SC', 'RN', 'DF', 'MT', 'MS', 'RS', 'MG', 'SE', 'RR', 'RJ', 'AM', 'TO', 'PI', 'AL', 'PB', 'ES', 'PE', 'AP', 'AC', 'PR', 'PA', 'GO', 'RO', 'MA', 'SP'}\n"
          ]
        },
        {
          "output_type": "stream",
          "name": "stderr",
          "text": [
            "<ipython-input-8-21a47ce8060d>:3: DtypeWarning: Columns (47,48,51,52) have mixed types. Specify dtype option on import or set low_memory=False.\n",
            "  df =  pd.read_csv('etl_python.csv')\n"
          ]
        }
      ],
      "source": [
        "import pandas as pd\n",
        "\n",
        "df =  pd.read_csv('etl_python.csv')\n",
        "uf = df['sigla_uf_prova'].tolist()\n",
        "uf_compilado = set(uf)\n",
        "print(uf_compilado)"
      ]
    },
    {
      "cell_type": "code",
      "source": [
        "compilacao_uf = df.groupby(['sigla_uf_prova']).agg({'id_inscricao':'count'}).reset_index()\n",
        "compilacao_ano = df.groupby(['ano']).agg({'id_inscricao':'count'}).reset_index()\n",
        "compilacao_sexo = df.groupby(['sexo']).agg({'id_inscricao':'count'}).reset_index()\n",
        "print(compilacao_dados)\n",
        "print(compilacao_ano)\n",
        "print(compilacao_sexo)"
      ],
      "metadata": {
        "colab": {
          "base_uri": "https://localhost:8080/"
        },
        "id": "o0kdzE70cYAV",
        "outputId": "cf11a8c9-9876-4b5f-fb9f-e4b90fc6ff1c"
      },
      "execution_count": 25,
      "outputs": [
        {
          "output_type": "stream",
          "name": "stdout",
          "text": [
            "   sigla_uf_prova  id_inscricao\n",
            "0              AC           229\n",
            "1              AL           530\n",
            "2              AM          1540\n",
            "3              AP           276\n",
            "4              BA          2420\n",
            "5              CE          1881\n",
            "6              DF           581\n",
            "7              ES           579\n",
            "8              GO          1275\n",
            "9              MA          1210\n",
            "10             MG          2927\n",
            "11             MS           452\n",
            "12             MT           606\n",
            "13             PA          1764\n",
            "14             PB           812\n",
            "15             PE          1581\n",
            "16             PI           641\n",
            "17             PR          1277\n",
            "18             RJ          2105\n",
            "19             RN           655\n",
            "20             RO           423\n",
            "21             RR            91\n",
            "22             RS          1315\n",
            "23             SC           720\n",
            "24             SE           405\n",
            "25             SP          4894\n",
            "26             TO           291\n",
            "    ano  id_inscricao\n",
            "0  2019          6714\n",
            "1  2020         10804\n",
            "2  2021          7439\n",
            "3  2022          6523\n",
            "  sexo  id_inscricao\n",
            "0    F         18833\n",
            "1    M         12647\n"
          ]
        }
      ]
    },
    {
      "cell_type": "code",
      "source": [
        "ano_maior_numero_participantes = compilacao_ano['id_inscricao'].min()\n",
        "uf_maior_numero_participantes = compilacao_uf['id_inscricao'].max()\n",
        "sexo_maior_numero_participantes = compilacao_sexo['id_inscricao'].max()\n",
        "\n",
        "print(ano_maior_numero_participantes)\n",
        "print(uf_maior_numero_participantes)\n",
        "print(sexo_maior_numero_participantes)"
      ],
      "metadata": {
        "colab": {
          "base_uri": "https://localhost:8080/"
        },
        "id": "eS3G7FXnethS",
        "outputId": "656b5f17-d7b4-4156-f931-89d3bb9d9506"
      },
      "execution_count": 39,
      "outputs": [
        {
          "output_type": "stream",
          "name": "stdout",
          "text": [
            "6523\n",
            "4894\n",
            "18833\n"
          ]
        }
      ]
    }
  ]
}